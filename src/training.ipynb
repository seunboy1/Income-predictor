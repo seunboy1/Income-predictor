{
 "cells": [
  {
   "cell_type": "code",
   "execution_count": 5,
   "id": "030b72e5",
   "metadata": {},
   "outputs": [
    {
     "data": {
      "application/vnd.jupyter.widget-view+json": {
       "model_id": "",
       "version_major": 2,
       "version_minor": 0
      },
      "text/plain": [
       "FloatProgress(value=0.0, bar_style='info', description='Progress:', layout=Layout(height='25px', width='50%'),…"
      ]
     },
     "metadata": {},
     "output_type": "display_data"
    },
    {
     "name": "stdout",
     "output_type": "stream",
     "text": [
      "import org.apache.spark.ml.classification.DecisionTreeClassifier\n",
      "import org.apache.spark.ml.Pipeline\n",
      "import org.apache.spark.ml.feature.StringIndexer\n",
      "import org.apache.spark.ml.feature.VectorAssembler\n",
      "import org.apache.spark.ml.feature.IndexToString\n",
      "import org.apache.spark.sql.SparkSession\n"
     ]
    }
   ],
   "source": [
    "%spark\n",
    "\n",
    "// Import necessary libraries\n",
    "import org.apache.spark.ml.classification.DecisionTreeClassifier\n",
    "import org.apache.spark.ml.Pipeline\n",
    "import org.apache.spark.ml.feature.StringIndexer\n",
    "import org.apache.spark.ml.feature.VectorAssembler\n",
    "import org.apache.spark.ml.feature.IndexToString\n",
    "import org.apache.spark.sql.SparkSession"
   ]
  },
  {
   "cell_type": "code",
   "execution_count": 11,
   "id": "6b2f2954",
   "metadata": {},
   "outputs": [
    {
     "data": {
      "application/vnd.jupyter.widget-view+json": {
       "model_id": "",
       "version_major": 2,
       "version_minor": 0
      },
      "text/plain": [
       "FloatProgress(value=0.0, bar_style='info', description='Progress:', layout=Layout(height='25px', width='50%'),…"
      ]
     },
     "metadata": {},
     "output_type": "display_data"
    }
   ],
   "source": [
    "%spark\n",
    "spark.catalog.setCurrentDatabase(\"census_income_db\")"
   ]
  },
  {
   "cell_type": "code",
   "execution_count": 12,
   "id": "75960629",
   "metadata": {},
   "outputs": [
    {
     "data": {
      "application/vnd.jupyter.widget-view+json": {
       "model_id": "",
       "version_major": 2,
       "version_minor": 0
      },
      "text/plain": [
       "FloatProgress(value=0.0, bar_style='info', description='Progress:', layout=Layout(height='25px', width='50%'),…"
      ]
     },
     "metadata": {},
     "output_type": "display_data"
    },
    {
     "name": "stdout",
     "output_type": "stream",
     "text": [
      "+----------------+-------------+------------------+-----------+---------+-----------+\n",
      "|            name|      catalog|         namespace|description|tableType|isTemporary|\n",
      "+----------------+-------------+------------------+-----------+---------+-----------+\n",
      "|adult_data_clean|spark_catalog|[census_income_db]|       NULL| EXTERNAL|      false|\n",
      "|   census_income|spark_catalog|[census_income_db]|       NULL| EXTERNAL|      false|\n",
      "+----------------+-------------+------------------+-----------+---------+-----------+\n",
      "\n"
     ]
    }
   ],
   "source": [
    "spark.catalog.listTables().show()"
   ]
  },
  {
   "cell_type": "code",
   "execution_count": 13,
   "id": "81839de1",
   "metadata": {},
   "outputs": [
    {
     "data": {
      "application/vnd.jupyter.widget-view+json": {
       "model_id": "",
       "version_major": 2,
       "version_minor": 0
      },
      "text/plain": [
       "FloatProgress(value=0.0, bar_style='info', description='Progress:', layout=Layout(height='25px', width='50%'),…"
      ]
     },
     "metadata": {},
     "output_type": "display_data"
    },
    {
     "name": "stdout",
     "output_type": "stream",
     "text": [
      "df: org.apache.spark.sql.DataFrame = [age: bigint, workclass: string ... 5 more fields]\n"
     ]
    }
   ],
   "source": [
    "val df = spark.sql(\"select * from adult_data_clean where age is not null \")"
   ]
  },
  {
   "cell_type": "code",
   "execution_count": 14,
   "id": "5ee6e33e",
   "metadata": {},
   "outputs": [
    {
     "data": {
      "application/vnd.jupyter.widget-view+json": {
       "model_id": "",
       "version_major": 2,
       "version_minor": 0
      },
      "text/plain": [
       "FloatProgress(value=0.0, bar_style='info', description='Progress:', layout=Layout(height='25px', width='50%'),…"
      ]
     },
     "metadata": {},
     "output_type": "display_data"
    },
    {
     "name": "stdout",
     "output_type": "stream",
     "text": [
      "root\n",
      " |-- age: long (nullable = true)\n",
      " |-- workclass: string (nullable = true)\n",
      " |-- education: string (nullable = true)\n",
      " |-- relationship: string (nullable = true)\n",
      " |-- occupation: string (nullable = true)\n",
      " |-- country: string (nullable = true)\n",
      " |-- income_cat: string (nullable = true)\n",
      "\n"
     ]
    }
   ],
   "source": [
    "df.printSchema()"
   ]
  },
  {
   "cell_type": "code",
   "execution_count": 16,
   "id": "0e074c96",
   "metadata": {},
   "outputs": [
    {
     "data": {
      "application/vnd.jupyter.widget-view+json": {
       "model_id": "",
       "version_major": 2,
       "version_minor": 0
      },
      "text/plain": [
       "FloatProgress(value=0.0, bar_style='info', description='Progress:', layout=Layout(height='25px', width='50%'),…"
      ]
     },
     "metadata": {},
     "output_type": "display_data"
    },
    {
     "name": "stdout",
     "output_type": "stream",
     "text": [
      "+---+-------------------+------------+--------------------+--------------------+----------------+----------+\n",
      "|age|          workclass|   education|        relationship|          occupation|         country|income_cat|\n",
      "+---+-------------------+------------+--------------------+--------------------+----------------+----------+\n",
      "| 39|       \" State-gov\"|\" Bachelors\"|    \" Never-married\"|     \" Adm-clerical\"|\" United-States\"|  \" <=50K\"|\n",
      "| 50|\" Self-emp-not-inc\"|\" Bachelors\"|\" Married-civ-spo...|  \" Exec-managerial\"|\" United-States\"|  \" <=50K\"|\n",
      "| 38|         \" Private\"|  \" HS-grad\"|         \" Divorced\"|\" Handlers-cleaners\"|\" United-States\"|  \" <=50K\"|\n",
      "| 53|         \" Private\"|     \" 11th\"|\" Married-civ-spo...|\" Handlers-cleaners\"|\" United-States\"|  \" <=50K\"|\n",
      "| 28|         \" Private\"|\" Bachelors\"|\" Married-civ-spo...|   \" Prof-specialty\"|         \" Cuba\"|  \" <=50K\"|\n",
      "| 37|         \" Private\"|  \" Masters\"|\" Married-civ-spo...|  \" Exec-managerial\"|\" United-States\"|  \" <=50K\"|\n",
      "| 49|         \" Private\"|      \" 9th\"|\" Married-spouse-...|    \" Other-service\"|      \" Jamaica\"|  \" <=50K\"|\n",
      "| 52|\" Self-emp-not-inc\"|  \" HS-grad\"|\" Married-civ-spo...|  \" Exec-managerial\"|\" United-States\"|   \" >50K\"|\n",
      "| 31|         \" Private\"|  \" Masters\"|    \" Never-married\"|   \" Prof-specialty\"|\" United-States\"|   \" >50K\"|\n",
      "| 42|         \" Private\"|\" Bachelors\"|\" Married-civ-spo...|  \" Exec-managerial\"|\" United-States\"|   \" >50K\"|\n",
      "+---+-------------------+------------+--------------------+--------------------+----------------+----------+\n",
      "only showing top 10 rows\n",
      "\n"
     ]
    }
   ],
   "source": [
    "df.show(10)\n"
   ]
  },
  {
   "cell_type": "code",
   "execution_count": 23,
   "id": "66d7742d",
   "metadata": {},
   "outputs": [
    {
     "data": {
      "application/vnd.jupyter.widget-view+json": {
       "model_id": "",
       "version_major": 2,
       "version_minor": 0
      },
      "text/plain": [
       "FloatProgress(value=0.0, bar_style='info', description='Progress:', layout=Layout(height='25px', width='50%'),…"
      ]
     },
     "metadata": {},
     "output_type": "display_data"
    },
    {
     "name": "stdout",
     "output_type": "stream",
     "text": [
      "trainingSize: Double = 0.8\n",
      "testSize: Double = 0.2\n",
      "workclass_indexer: org.apache.spark.ml.feature.StringIndexerModel = StringIndexerModel: uid=strIdx_17512ee43e42, handleInvalid=error\n",
      "edu_indexer: org.apache.spark.ml.feature.StringIndexerModel = StringIndexerModel: uid=strIdx_8190ce8fc158, handleInvalid=error\n",
      "relationship_indexer: org.apache.spark.ml.feature.StringIndexerModel = StringIndexerModel: uid=strIdx_82c2a7d754a2, handleInvalid=error\n",
      "occupation_indexer: org.apache.spark.ml.feature.StringIndexerModel = StringIndexerModel: uid=strIdx_4352918da52e, handleInvalid=error\n",
      "income_indexer: org.apache.spark.ml.feature.StringIndexerModel = StringIndexerModel: uid=strIdx_7a46720bc5ea, handleInvalid=error\n",
      "assembler: org.apache.spark.ml.feature.VectorAssembler = VectorAssembler: uid=vecAssembler_a9549acd1fc3, handleInvalid=error, numInputCols=5\n",
      "trainingData: org.apache.spark.sql.Dataset[org.apache.spark.sql.Row] = [age: bigint, workclass: string ... 5 more fields]\n",
      "testData: org.apache.spark.sql.Dataset[org.apache.spark.sql.Row] = [age: bigint, workclass: string ... 5 more fields]\n",
      "trainingData count:26143\n",
      "testData count:6418\n",
      "dt: org.apache.spark.ml.classification.DecisionTreeClassifier = dtc_7f08933daa19\n",
      "warning: one deprecation (since 3.0.0); for details, enable `:setting -deprecation' or `:replay -deprecation'\n",
      "labelConverter: org.apache.spark.ml.feature.IndexToString = idxToStr_3bce26563a1a\n",
      "pipeline: org.apache.spark.ml.Pipeline = pipeline_63e5e35103ca\n"
     ]
    }
   ],
   "source": [
    "val trainingSize = 0.8\n",
    "val testSize = 0.2\n",
    "\n",
    "val workclass_indexer = new StringIndexer().setInputCol(\"workclass\").setOutputCol(\"workclass-index\").fit(df)\n",
    "val edu_indexer = new StringIndexer().setInputCol(\"education\").setOutputCol(\"edu-index\").fit(df)\n",
    "val relationship_indexer = new StringIndexer().setInputCol(\"relationship\").setOutputCol(\"reln-index\").fit(df)\n",
    "val occupation_indexer = new StringIndexer().setInputCol(\"occupation\").setOutputCol(\"occu-index\").fit(df)\n",
    "val income_indexer = new StringIndexer().setInputCol(\"income_cat\").setOutputCol(\"category-index\").fit(df)\n",
    "val assembler = new VectorAssembler().setInputCols(Array(\"age\", \"workclass-index\", \"edu-index\", \"reln-index\", \"occu-index\")).setOutputCol(\"features\")\n",
    "\n",
    "\n",
    "// val workclass_indexer = new StringIndexer().setInputCol(\"workclass\").setOutputCol(\"workclass-index\").fit(df)\n",
    "// val edu_indexer = new StringIndexer().setInputCol(\"education\").setOutputCol(\"edu-index\").fit(df)\n",
    "// val relationship_indexer = new StringIndexer().setInputCol(\"relationship\").setOutputCol(\"reln-index\").fit(df)\n",
    "// val occupation_indexer = new StringIndexer().setInputCol(\"occupation\").setOutputCol(\"occu-index\").fit(df)\n",
    "// val income_indexer = new StringIndexer().setInputCol(\"income_cat\").setOutputCol(\"category-index\").fit(df)\n",
    "// val assembler = new VectorAssembler().setInputCols(Array(\"age\", \"workclass-index\", \"edu-index\", \"reln-index\", \"occu\")).setOutputCol(\"features\")\n",
    "\n",
    "val Array(trainingData, testData) = df.randomSplit(Array(trainingSize, testSize))\n",
    "println(\"trainingData count:\" + trainingData.count)\n",
    "println(\"testData count:\" + testData.count)\n",
    "\n",
    "// val Array(trainingData, testData) = df.randomSplit(Array(trainingSize, testSize))\n",
    "// println(\"trainingData count:\" + trainingData.count)\n",
    "// println(\"testSize count:\" + testData.count)\n",
    "\n",
    "val dt = new DecisionTreeClassifier().setLabelCol(\"category-index\").setFeaturesCol(\"features\")\n",
    "val labelConverter = new IndexToString().setInputCol(\"prediction\").setOutputCol(\"predictedLabel\").setLabels(income_indexer.labels)\n",
    "val pipeline = new Pipeline().setStages(Array(workclass_indexer, edu_indexer, relationship_indexer, occupation_indexer, assembler, income_indexer, dt, labelConverter))\n",
    "\n",
    "// val dt = new DecisionTreeClassifier().setLabelCol(\"category-index\").setFeaturesCol(\"features\")\n",
    "// val labelConverter = new IndexToString().setInputCol(\"prediction\").setOutputCol(\"predictedLabels\").setLabels(income_indexer.labels)\n",
    "// val pipeline = new Pipeline().setStages(Array(workclass_indexer, edu_indexer, relationship_indexer, assembler, income_indexer, dt, labelConverter))\n"
   ]
  },
  {
   "cell_type": "code",
   "execution_count": 24,
   "id": "265424c1",
   "metadata": {},
   "outputs": [
    {
     "data": {
      "application/vnd.jupyter.widget-view+json": {
       "model_id": "",
       "version_major": 2,
       "version_minor": 0
      },
      "text/plain": [
       "FloatProgress(value=0.0, bar_style='info', description='Progress:', layout=Layout(height='25px', width='50%'),…"
      ]
     },
     "metadata": {},
     "output_type": "display_data"
    },
    {
     "name": "stdout",
     "output_type": "stream",
     "text": [
      "model: org.apache.spark.ml.PipelineModel = pipeline_63e5e35103ca\n"
     ]
    }
   ],
   "source": [
    "val model = pipeline.fit(trainingData)"
   ]
  },
  {
   "cell_type": "code",
   "execution_count": 25,
   "id": "4139545d",
   "metadata": {},
   "outputs": [
    {
     "data": {
      "application/vnd.jupyter.widget-view+json": {
       "model_id": "",
       "version_major": 2,
       "version_minor": 0
      },
      "text/plain": [
       "FloatProgress(value=0.0, bar_style='info', description='Progress:', layout=Layout(height='25px', width='50%'),…"
      ]
     },
     "metadata": {},
     "output_type": "display_data"
    },
    {
     "name": "stdout",
     "output_type": "stream",
     "text": [
      "preds: org.apache.spark.sql.DataFrame = [age: bigint, workclass: string ... 15 more fields]\n",
      "preds_records: org.apache.spark.sql.DataFrame = [age: bigint, workclass: string ... 4 more fields]\n",
      "+---+-------------------+---------+----------------+--------------------+--------------+\n",
      "|age|          workclass|education|    relationship|         probability|predictedLabel|\n",
      "+---+-------------------+---------+----------------+--------------------+--------------+\n",
      "| 17|               \" ?\"|  \" 10th\"|\" Never-married\"|[0.96743482516238...|      \" <=50K\"|\n",
      "| 17|               \" ?\"|  \" 11th\"|\" Never-married\"|[0.96743482516238...|      \" <=50K\"|\n",
      "| 17|               \" ?\"|  \" 11th\"|\" Never-married\"|[0.96743482516238...|      \" <=50K\"|\n",
      "| 17|       \" Local-gov\"|   \" 9th\"|\" Never-married\"|[0.96743482516238...|      \" <=50K\"|\n",
      "| 17|         \" Private\"|  \" 10th\"|\" Never-married\"|[0.96743482516238...|      \" <=50K\"|\n",
      "| 17|         \" Private\"|  \" 10th\"|\" Never-married\"|[0.96743482516238...|      \" <=50K\"|\n",
      "| 17|         \" Private\"|  \" 10th\"|\" Never-married\"|[0.96743482516238...|      \" <=50K\"|\n",
      "| 17|         \" Private\"|  \" 11th\"|\" Never-married\"|[0.96743482516238...|      \" <=50K\"|\n",
      "| 17|         \" Private\"|  \" 11th\"|\" Never-married\"|[0.96743482516238...|      \" <=50K\"|\n",
      "| 17|         \" Private\"|  \" 11th\"|\" Never-married\"|[0.96743482516238...|      \" <=50K\"|\n",
      "| 17|         \" Private\"|  \" 11th\"|\" Never-married\"|[0.96743482516238...|      \" <=50K\"|\n",
      "| 17|         \" Private\"|  \" 11th\"|\" Never-married\"|[0.96743482516238...|      \" <=50K\"|\n",
      "| 17|         \" Private\"|  \" 11th\"|\" Never-married\"|[0.96743482516238...|      \" <=50K\"|\n",
      "| 17|         \" Private\"|  \" 11th\"|\" Never-married\"|[0.96743482516238...|      \" <=50K\"|\n",
      "| 17|         \" Private\"|  \" 11th\"|\" Never-married\"|[0.96743482516238...|      \" <=50K\"|\n",
      "| 17|         \" Private\"|  \" 11th\"|\" Never-married\"|[0.96743482516238...|      \" <=50K\"|\n",
      "| 17|         \" Private\"|  \" 12th\"|\" Never-married\"|[0.96743482516238...|      \" <=50K\"|\n",
      "| 17|         \" Private\"|   \" 9th\"|\" Never-married\"|[0.96743482516238...|      \" <=50K\"|\n",
      "| 17|\" Self-emp-not-inc\"|  \" 11th\"|\" Never-married\"|[0.96743482516238...|      \" <=50K\"|\n",
      "| 17|       \" State-gov\"|  \" 10th\"|\" Never-married\"|[0.96743482516238...|      \" <=50K\"|\n",
      "+---+-------------------+---------+----------------+--------------------+--------------+\n",
      "only showing top 20 rows\n",
      "\n",
      "count:6418\n"
     ]
    }
   ],
   "source": [
    "val preds = model.transform(testData)\n",
    "val preds_records = preds.select($\"age\", $\"workclass\", $\"education\", $\"relationship\", $\"probability\", $\"predictedLabel\")\n",
    "preds_records.show(20)\n",
    "println(\"count:\" + preds_records.count)"
   ]
  },
  {
   "cell_type": "code",
   "execution_count": 26,
   "id": "b2fa44e2",
   "metadata": {},
   "outputs": [
    {
     "data": {
      "application/vnd.jupyter.widget-view+json": {
       "model_id": "",
       "version_major": 2,
       "version_minor": 0
      },
      "text/plain": [
       "FloatProgress(value=0.0, bar_style='info', description='Progress:', layout=Layout(height='25px', width='50%'),…"
      ]
     },
     "metadata": {},
     "output_type": "display_data"
    },
    {
     "name": "stdout",
     "output_type": "stream",
     "text": [
      "pred_50Kover: org.apache.spark.sql.Dataset[org.apache.spark.sql.Row] = [age: bigint, workclass: string ... 4 more fields]\n",
      "+---+------------+--------------+--------------------+--------------------+--------------+\n",
      "|age|   workclass|     education|        relationship|         probability|predictedLabel|\n",
      "+---+------------+--------------+--------------------+--------------------+--------------+\n",
      "| 26|  \" Private\"|  \" Bachelors\"|\" Married-civ-spo...|[0.45370370370370...|       \" >50K\"|\n",
      "| 26|  \" Private\"|  \" Bachelors\"|\" Married-civ-spo...|[0.45370370370370...|       \" >50K\"|\n",
      "| 27|  \" Private\"|  \" Bachelors\"|\" Married-civ-spo...|[0.45370370370370...|       \" >50K\"|\n",
      "| 28|\" Local-gov\"|    \" Masters\"|\" Married-civ-spo...|[0.45370370370370...|       \" >50K\"|\n",
      "| 28|  \" Private\"|  \" Bachelors\"|\" Married-civ-spo...|[0.45370370370370...|       \" >50K\"|\n",
      "| 28|  \" Private\"|  \" Bachelors\"|\" Married-civ-spo...|[0.45370370370370...|       \" >50K\"|\n",
      "| 28|  \" Private\"|  \" Bachelors\"|\" Married-civ-spo...|[0.45370370370370...|       \" >50K\"|\n",
      "| 28|  \" Private\"|\" Prof-school\"|    \" Never-married\"|[0.46192893401015...|       \" >50K\"|\n",
      "| 29|  \" Private\"|  \" Bachelors\"|\" Married-civ-spo...|[0.23442547300415...|       \" >50K\"|\n",
      "| 29|  \" Private\"|  \" Doctorate\"|    \" Never-married\"|[0.46192893401015...|       \" >50K\"|\n",
      "+---+------------+--------------+--------------------+--------------------+--------------+\n",
      "only showing top 10 rows\n",
      "\n",
      "count:1164\n"
     ]
    }
   ],
   "source": [
    "val pred_50Kover = preds_records.filter($\"predictedLabel\".contains(\">50K\"))\n",
    "pred_50Kover.show(10)\n",
    "println(\"count:\" + pred_50Kover.count)"
   ]
  },
  {
   "cell_type": "code",
   "execution_count": 27,
   "id": "e39132b2",
   "metadata": {},
   "outputs": [
    {
     "data": {
      "application/vnd.jupyter.widget-view+json": {
       "model_id": "",
       "version_major": 2,
       "version_minor": 0
      },
      "text/plain": [
       "FloatProgress(value=0.0, bar_style='info', description='Progress:', layout=Layout(height='25px', width='50%'),…"
      ]
     },
     "metadata": {},
     "output_type": "display_data"
    },
    {
     "name": "stdout",
     "output_type": "stream",
     "text": [
      "import org.apache.spark.ml.classification.DecisionTreeClassificationModel\n",
      "treeModel: org.apache.spark.ml.classification.DecisionTreeClassificationModel = DecisionTreeClassificationModel: uid=dtc_7f08933daa19, depth=5, numNodes=21, numClasses=2, numFeatures=5\n",
      "Learned classification tree model:\n",
      "DecisionTreeClassificationModel: uid=dtc_7f08933daa19, depth=5, numNodes=21, numClasses=2, numFeatures=5\n",
      "  If (feature 3 in {1.0,2.0,3.0,4.0,5.0,6.0})\n",
      "   If (feature 4 in {1.0,3.0,4.0,5.0,6.0,7.0,8.0,9.0,10.0,11.0,12.0,13.0,14.0})\n",
      "    Predict: 0.0\n",
      "   Else (feature 4 not in {1.0,3.0,4.0,5.0,6.0,7.0,8.0,9.0,10.0,11.0,12.0,13.0,14.0})\n",
      "    If (feature 0 <= 27.5)\n",
      "     Predict: 0.0\n",
      "    Else (feature 0 > 27.5)\n",
      "     If (feature 2 in {0.0,1.0,4.0,5.0,6.0,7.0,8.0,10.0,11.0,14.0})\n",
      "      Predict: 0.0\n",
      "     Else (feature 2 not in {0.0,1.0,4.0,5.0,6.0,7.0,8.0,10.0,11.0,14.0})\n",
      "      If (feature 2 in {9.0,12.0})\n",
      "       Predict: 1.0\n",
      "      Else (feature 2 not in {9.0,12.0})\n",
      "       Predict: 0.0\n",
      "  Else (feature 3 not in {1.0,2.0,3.0,4.0,5.0,6.0})\n",
      "   If (feature 4 in {1.0,3.0,5.0,6.0,7.0,8.0,9.0,10.0,11.0,12.0,13.0,14.0})\n",
      "    Predict: 0.0\n",
      "   Else (feature 4 not in {1.0,3.0,5.0,6.0,7.0,8.0,9.0,10.0,11.0,12.0,13.0,14.0})\n",
      "    If (feature 2 in {0.0,1.0,4.0,5.0,6.0,7.0,8.0,9.0,10.0,11.0,12.0,13.0,14.0,15.0})\n",
      "     If (feature 0 <= 31.5)\n",
      "      Predict: 0.0\n",
      "     Else (feature 0 > 31.5)\n",
      "      Predict: 1.0\n",
      "    Else (feature 2 not in {0.0,1.0,4.0,5.0,6.0,7.0,8.0,9.0,10.0,11.0,12.0,13.0,14.0,15.0})\n",
      "     If (feature 0 <= 28.5)\n",
      "      If (feature 0 <= 25.5)\n",
      "       Predict: 0.0\n",
      "      Else (feature 0 > 25.5)\n",
      "       Predict: 1.0\n",
      "     Else (feature 0 > 28.5)\n",
      "      Predict: 1.0\n",
      "\n"
     ]
    }
   ],
   "source": [
    "import org.apache.spark.ml.classification.DecisionTreeClassificationModel\n",
    "val treeModel = model.stages(6).asInstanceOf[DecisionTreeClassificationModel]\n",
    "println(\"Learned classification tree model:\\n\" + treeModel.toDebugString)"
   ]
  },
  {
   "cell_type": "code",
   "execution_count": null,
   "id": "1f79cdb5",
   "metadata": {},
   "outputs": [],
   "source": []
  }
 ],
 "metadata": {
  "kernelspec": {
   "display_name": "Spark",
   "language": "scala",
   "name": "sparkkernel"
  },
  "language_info": {
   "codemirror_mode": "text/x-scala",
   "file_extension": ".sc",
   "mimetype": "text/x-scala",
   "name": "scala",
   "pygments_lexer": "scala"
  }
 },
 "nbformat": 4,
 "nbformat_minor": 5
}
